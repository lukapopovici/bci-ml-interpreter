{
 "cells": [
  {
   "cell_type": "markdown",
   "id": "6106cca4",
   "metadata": {},
   "source": [
    "# Brain Activity Recording Analysis\n",
    "This notebook loads brain activity signal and spectrum data, estimates the duration of the recording, and displays corresponding graphs."
   ]
  },
  {
   "cell_type": "code",
   "execution_count": null,
   "id": "58909c62",
   "metadata": {},
   "outputs": [],
   "source": [
    "# Import Required Libraries\n",
    "import pandas as pd\n",
    "import numpy as np\n",
    "import matplotlib.pyplot as plt"
   ]
  },
  {
   "cell_type": "code",
   "execution_count": null,
   "id": "445ea435",
   "metadata": {},
   "outputs": [],
   "source": [
    "# Load Signal Data\n",
    "signal_df = pd.read_csv('src/freqclassifier/Sources/01-signal_d.csv')\n",
    "signal_df.head()"
   ]
  },
  {
   "cell_type": "code",
   "execution_count": null,
   "id": "e2c9a27a",
   "metadata": {},
   "outputs": [],
   "source": [
    "# Estimate Duration of Recording\n",
    "num_samples = signal_df.shape[0]\n",
    "sampling_rate = 256  # Hz, update if known from dataset documentation\n",
    "duration_sec = num_samples / sampling_rate\n",
    "print(f\"Estimated duration: {duration_sec:.2f} seconds\")"
   ]
  },
  {
   "cell_type": "code",
   "execution_count": null,
   "id": "85b72edc",
   "metadata": {},
   "outputs": [],
   "source": [
    "# Plot Signal Data\n",
    "plt.figure(figsize=(12, 4))\n",
    "plt.plot(signal_df.iloc[:, 0])\n",
    "plt.title('Brain Activity Signal')\n",
    "plt.xlabel('Sample')\n",
    "plt.ylabel('Amplitude')\n",
    "plt.show()"
   ]
  },
  {
   "cell_type": "code",
   "execution_count": null,
   "id": "94974027",
   "metadata": {},
   "outputs": [],
   "source": [
    "# Load Spectrum Data\n",
    "spectrum_df = pd.read_csv('src/freqclassifier/Sources/01-spectrum_d.csv')\n",
    "spectrum_df.head()"
   ]
  },
  {
   "cell_type": "code",
   "execution_count": null,
   "id": "46c77150",
   "metadata": {},
   "outputs": [],
   "source": [
    "# Plot Spectrum Data\n",
    "plt.figure(figsize=(12, 4))\n",
    "plt.plot(spectrum_df.iloc[:, 0], spectrum_df.iloc[:, 1])\n",
    "plt.title('Brain Activity Spectrum')\n",
    "plt.xlabel('Frequency (Hz)')\n",
    "plt.ylabel('Amplitude')\n",
    "plt.show()"
   ]
  }
 ],
 "metadata": {
  "language_info": {
   "name": "python"
  }
 },
 "nbformat": 4,
 "nbformat_minor": 5
}
