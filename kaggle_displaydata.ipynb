{
 "cells": [
  {
   "cell_type": "markdown",
   "id": "6106cca4",
   "metadata": {},
   "source": [
    "# Brain Activity Recording Analysis\n",
    "This notebook loads brain activity signal and spectrum data, estimates the duration of the recording, and displays corresponding graphs."
   ]
  },
  {
   "cell_type": "code",
   "execution_count": null,
   "id": "58909c62",
   "metadata": {},
   "outputs": [],
   "source": [
    "# Parse OpenViBE CSV metadata and load signal data\n",
    "import pandas as pd\n",
    "\n",
    "# Manually set metadata from OpenViBE CSV header\n",
    "SAMPLING_RATE = 512\n",
    "CHANNEL_COUNT = 12\n",
    "CHANNEL_NAMES = ['C3','C4','Ref_Nose','FC3','FC4','C5','C1','C2','C6','CP3','CP4','Sampling Rate']\n",
    "\n",
    "# Load signal data (skip metadata lines if present in file)\n",
    "signal_df = pd.read_csv('src/freqclassifier/Sources/01-signal_d.csv', sep=';', skiprows=4)\n",
    "signal_df.head()"
   ]
  },
  {
   "cell_type": "code",
   "execution_count": null,
   "id": "445ea435",
   "metadata": {},
   "outputs": [],
   "source": [
    "# Load Signal Data\n",
    "signal_df = pd.read_csv('src/freqclassifier/Sources/01-signal_d.csv')\n",
    "signal_df.head()"
   ]
  },
  {
   "cell_type": "code",
   "execution_count": null,
   "id": "e2c9a27a",
   "metadata": {},
   "outputs": [],
   "source": [
    "# Sampling rate is set from OpenViBE CSV metadata\n",
    "# You can use SAMPLING_RATE variable directly\n",
    "print(f\"Sampling Rate: {SAMPLING_RATE} Hz\")"
   ]
  },
  {
   "cell_type": "code",
   "execution_count": null,
   "id": "85b72edc",
   "metadata": {},
   "outputs": [],
   "source": [
    "# Plot Signal Data\n",
    "plt.figure(figsize=(12, 4))\n",
    "plt.plot(signal_df.iloc[:, 0])\n",
    "plt.title('Brain Activity Signal')\n",
    "plt.xlabel('Sample')\n",
    "plt.ylabel('Amplitude')\n",
    "plt.show()"
   ]
  },
  {
   "cell_type": "code",
   "execution_count": null,
   "id": "94974027",
   "metadata": {},
   "outputs": [],
   "source": [
    "# Load Spectrum Data\n",
    "spectrum_df = pd.read_csv('src/freqclassifier/Sources/01-spectrum_d.csv')\n",
    "spectrum_df.head()"
   ]
  },
  {
   "cell_type": "code",
   "execution_count": null,
   "id": "46c77150",
   "metadata": {},
   "outputs": [],
   "source": [
    "# Plot Spectrum Data\n",
    "plt.figure(figsize=(12, 4))\n",
    "plt.plot(spectrum_df.iloc[:, 0], spectrum_df.iloc[:, 1])\n",
    "plt.title('Brain Activity Spectrum')\n",
    "plt.xlabel('Frequency (Hz)')\n",
    "plt.ylabel('Amplitude')\n",
    "plt.show()"
   ]
  }
 ],
 "metadata": {
  "language_info": {
   "name": "python"
  }
 },
 "nbformat": 4,
 "nbformat_minor": 5
}
